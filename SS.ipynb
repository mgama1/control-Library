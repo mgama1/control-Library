{
 "cells": [
  {
   "cell_type": "code",
   "execution_count": 16,
   "id": "8a96bb82",
   "metadata": {},
   "outputs": [],
   "source": [
    "import numpy as np\n",
    "import sympy as sym\n",
    "import pandas as pd\n",
    "from mpmath import *\n",
    "import matplotlib.pyplot as plt\n"
   ]
  },
  {
   "cell_type": "code",
   "execution_count": 17,
   "id": "12438067",
   "metadata": {},
   "outputs": [],
   "source": [
    "s,t,x = sym.symbols('s t x', real = True)\n",
    "x1,x2,x3 = sym.symbols('x1 x2 x3')\n",
    "A=np.array([[3, 10],[5,2]])\n",
    "B=np.array([1,1])\n",
    "C=np.array([1,0])\n",
    "D=np.array([0])\n",
    "\n",
    "\n"
   ]
  },
  {
   "cell_type": "code",
   "execution_count": 3,
   "id": "7c599249",
   "metadata": {},
   "outputs": [
    {
     "data": {
      "text/latex": [
       "$\\displaystyle \\left[\\begin{matrix}\\frac{s + 8}{s^{2} - 5 s - 44}\\end{matrix}\\right]$"
      ],
      "text/plain": [
       "Matrix([[(s + 8)/(s**2 - 5*s - 44)]])"
      ]
     },
     "execution_count": 3,
     "metadata": {},
     "output_type": "execute_result"
    }
   ],
   "source": [
    "def numpy2sympy(M):\n",
    "    return sym.Matrix(M)\n",
    "\n",
    "def ss2tf(A,B,C,D):\n",
    "    '''this method converts from state space to transfer function\n",
    "    inputs: A Matrix, B Matrix, C Matrix, D Matrix\n",
    "    returns: transfer function'''\n",
    "    A,B,C,D=numpy2sympy(A),numpy2sympy(B),numpy2sympy(C),numpy2sympy(D)   \n",
    "    TF=C.transpose() * (sym.eye(A.shape[0])*s-A).inv() * B + sym.Matrix([D])\n",
    "    TF=sym.simplify(TF)\n",
    "    return TF\n",
    "ss2tf(A,B,C,D)\n"
   ]
  },
  {
   "cell_type": "code",
   "execution_count": 4,
   "id": "ca293c10",
   "metadata": {},
   "outputs": [
    {
     "data": {
      "text/plain": [
       "True"
      ]
     },
     "execution_count": 4,
     "metadata": {},
     "output_type": "execute_result"
    }
   ],
   "source": [
    "A=np.array([[0, 1,0],[0,0,1],[-6,-11,-6]])\n",
    "def isStable(A):\n",
    "    '''checks whether a system is stable or not\n",
    "    Parameters: A Matrix\n",
    "    return True or False'''\n",
    "    A=numpy2sympy(A)\n",
    "    for i in A.eigenvals().keys():\n",
    "        if i>0:\n",
    "            return False\n",
    "        else:\n",
    "            return True\n",
    "isStable(A)\n"
   ]
  },
  {
   "cell_type": "code",
   "execution_count": null,
   "id": "7f2cc506",
   "metadata": {},
   "outputs": [],
   "source": []
  },
  {
   "cell_type": "code",
   "execution_count": 5,
   "id": "820c08e3",
   "metadata": {},
   "outputs": [
    {
     "data": {
      "text/plain": [
       "True"
      ]
     },
     "execution_count": 5,
     "metadata": {},
     "output_type": "execute_result"
    }
   ],
   "source": [
    "A=np.array([[0, 1],[-1,-2]])\n",
    "C=np.array([1,0])\n",
    "\n",
    "def isObservable(A,C):\n",
    "    '''checks whether a system is observable or not\n",
    "    Parameters: A Matrix, C Matrix\n",
    "    return True or False'''\n",
    "    A,C=numpy2sympy(A),numpy2sympy(C)\n",
    "    n=A.shape[0]        \n",
    "    O=C.transpose()\n",
    "    for i in range(n-1):\n",
    "        O=O.row_insert(i+1,C.transpose()*A**(i+1))\n",
    "    if O.rank()==n:\n",
    "        return True\n",
    "    else :\n",
    "        return False\n",
    "\n",
    "isObservable(A,C)\n",
    "\n"
   ]
  },
  {
   "cell_type": "code",
   "execution_count": 6,
   "id": "040c7588",
   "metadata": {},
   "outputs": [
    {
     "data": {
      "text/plain": [
       "True"
      ]
     },
     "execution_count": 6,
     "metadata": {},
     "output_type": "execute_result"
    }
   ],
   "source": [
    "A=np.array([[0, 1],[-1,-2]])\n",
    "B=np.array([0,1])\n",
    "\n",
    "def isControllable(A,B):\n",
    "    '''checks whether a system is controllable or not\n",
    "    Parameters: A Matrix, B Matrix\n",
    "    return True or False'''\n",
    "    A,B=numpy2sympy(A),numpy2sympy(B) \n",
    "    n=A.shape[0]\n",
    "    c=B\n",
    "    for i in range(n-1):\n",
    "        c=c.col_insert(i+1,A**(i+1)*B)\n",
    "        \n",
    "    if c.rank()==n:\n",
    "        return True\n",
    "    else :\n",
    "        return False\n",
    "\n",
    "    \n",
    "isControllable(A,B)"
   ]
  },
  {
   "cell_type": "code",
   "execution_count": null,
   "id": "7a88922d",
   "metadata": {},
   "outputs": [],
   "source": []
  },
  {
   "cell_type": "code",
   "execution_count": null,
   "id": "becb3f2f",
   "metadata": {},
   "outputs": [],
   "source": []
  },
  {
   "cell_type": "code",
   "execution_count": 8,
   "id": "1a17212d",
   "metadata": {},
   "outputs": [],
   "source": [
    "#take too much time to inverse laplace\n",
    "A=np.array([[3, 10],[5,2]])\n",
    "B=np.array([1,1])\n",
    "x0=np.array([1,0])\n",
    "u=1\n",
    "\n",
    "def solve(A,B,x0,u):\n",
    "    '''finds the system solution in S domain\n",
    "    Parameters: A Matrix ,B Matrix,initial condtion Matrix,input u\n",
    "    returns: system solution in time domain\n",
    "    '''\n",
    "    A,B,x0=numpy2sympy(A),numpy2sympy(B),numpy2sympy(x0)\n",
    "    u=sym.laplace_transform(u, t, s, noconds=True)\n",
    "    x=(sym.eye(A.shape[0])*s-A).inv()*x0 +(sym.eye(A.shape[0])*s-A).inv()*B*u\n",
    "    x=sym.simplify(x)\n",
    "\n",
    "    return x\n"
   ]
  },
  {
   "cell_type": "code",
   "execution_count": 9,
   "id": "6f21cf3f",
   "metadata": {},
   "outputs": [
    {
     "data": {
      "text/latex": [
       "$\\displaystyle \\left[\\begin{matrix}\\frac{s^{2} - s + 8}{s \\left(s^{2} - 5 s - 44\\right)}\\\\\\frac{2 \\left(3 s + 1\\right)}{s \\left(s^{2} - 5 s - 44\\right)}\\end{matrix}\\right]$"
      ],
      "text/plain": [
       "Matrix([\n",
       "[(s**2 - s + 8)/(s*(s**2 - 5*s - 44))],\n",
       "[   2*(3*s + 1)/(s*(s**2 - 5*s - 44))]])"
      ]
     },
     "execution_count": 9,
     "metadata": {},
     "output_type": "execute_result"
    }
   ],
   "source": [
    "solve(A,B,x0,u)"
   ]
  },
  {
   "cell_type": "code",
   "execution_count": null,
   "id": "6c47c2d9",
   "metadata": {},
   "outputs": [],
   "source": []
  },
  {
   "cell_type": "code",
   "execution_count": 10,
   "id": "54b83544",
   "metadata": {},
   "outputs": [],
   "source": [
    "def roots2poly(*roots):\n",
    "    from sympy import Symbol\n",
    "    x = Symbol('x')\n",
    "    whole =1\n",
    "    for root in roots:\n",
    "        whole *=(x-root)\n",
    "    p=sym.poly(whole.expand(),x)\n",
    "    p=p.all_coeffs()\n",
    "    return p \n",
    "\n",
    "\n",
    "def placePoles(A,B,p):\n",
    "    '''\n",
    "    finds gain k for pole placplacement using Ackermann's method\n",
    "    Parameters: A Matrix,B Matrix, poles\n",
    "    returns: gain vector\n",
    "    \n",
    "    '''\n",
    "    A,B=numpy2sympy(A),numpy2sympy(B)  \n",
    "\n",
    "    arr=np.zeros((1,A.shape[0]-1))\n",
    "    arr=sym.Matrix(np.append(arr,[1])).transpose()\n",
    "    \n",
    "    \n",
    "    n=A.shape[0]\n",
    "    c=B\n",
    "    for i in range(n-1):\n",
    "        c=c.col_insert(i+1,A**(i+1)*B)\n",
    "    \n",
    "    Q=sym.zeros(A.shape[0])\n",
    "    for i in range(len(p)):\n",
    "        Q=Q+p[i]*A**(len(p)-1-i)\n",
    "    \n",
    "    return (arr * c.inv() * Q)  \n",
    "\n",
    "A=np.array([[0, 1,0],[0,0,1],[-2,-3,-5]])\n",
    "B=np.array([0,0,1])\n",
    "p=roots2poly(-4+3j,-4-3j,-4)\n",
    "\n",
    "\n",
    "\n"
   ]
  },
  {
   "cell_type": "code",
   "execution_count": 11,
   "id": "b2086919",
   "metadata": {},
   "outputs": [
    {
     "data": {
      "text/latex": [
       "$\\displaystyle \\left[\\begin{matrix}98.0 & 54.0 & 7.0\\end{matrix}\\right]$"
      ],
      "text/plain": [
       "Matrix([[98.0, 54.0, 7.0]])"
      ]
     },
     "execution_count": 11,
     "metadata": {},
     "output_type": "execute_result"
    }
   ],
   "source": [
    "k=placePoles(A,B,p)\n",
    "k"
   ]
  },
  {
   "cell_type": "code",
   "execution_count": null,
   "id": "abcdda50",
   "metadata": {},
   "outputs": [],
   "source": []
  },
  {
   "cell_type": "code",
   "execution_count": null,
   "id": "5876fe65",
   "metadata": {},
   "outputs": [],
   "source": []
  },
  {
   "cell_type": "code",
   "execution_count": 12,
   "id": "fa490ccf",
   "metadata": {},
   "outputs": [
    {
     "name": "stderr",
     "output_type": "stream",
     "text": [
      "C:\\Users\\mahmoud\\anaconda3\\lib\\site-packages\\sympy\\polys\\polytools.py:75: SymPyDeprecationWarning: \n",
      "\n",
      "Mixing Poly with non-polynomial expressions in binary operations has\n",
      "been deprecated since SymPy 1.6. Use the as_expr or as_poly method to\n",
      "convert types instead. See https://github.com/sympy/sympy/issues/18613\n",
      "for more info.\n",
      "\n",
      "  SymPyDeprecationWarning(\n"
     ]
    }
   ],
   "source": [
    "\n",
    "n=np.array([1,3,3])\n",
    "d=np.array([1,2,1])\n",
    "tf=sym.Poly(n,s)/sym.Poly(d,s)\n",
    "\n",
    "A=np.zeros((len(d)-1,len(d)-1))\n",
    "A[:,len(A)-1]=-1*d[1:][::-1]\n",
    "A[1:,0:len(A)-1]=np.eye(len(d)-2)\n",
    "if len(d) >len(n):\n",
    "    B=n[::-1]\n",
    "    C=np.append(np.zeros(len(A)-2),[1])\n",
    "    D=0\n",
    "elif len(d)==len(n):\n",
    "    D=sym.limit(tf,s,sym.oo)\n",
    "    n=(tf-D)*sym.Poly(d,s)\n",
    "    n=sym.Poly(sym.simplify(n),s)\n",
    "    n=n.coeffs()\n",
    "    B=np.asarray(n[::-1])\n",
    "    C=np.append(np.zeros(len(A)-2),[1])\n",
    "\n",
    "D=np.array(D)\n",
    "\n",
    "\n"
   ]
  },
  {
   "cell_type": "code",
   "execution_count": 13,
   "id": "74e0da72",
   "metadata": {},
   "outputs": [
    {
     "data": {
      "text/plain": [
       "(array([[ 0., -1.],\n",
       "        [ 1., -2.]]),\n",
       " array([2, 1], dtype=object),\n",
       " array([1.]),\n",
       " array(1, dtype=object))"
      ]
     },
     "execution_count": 13,
     "metadata": {},
     "output_type": "execute_result"
    }
   ],
   "source": [
    "A,B,C,D"
   ]
  },
  {
   "cell_type": "code",
   "execution_count": 14,
   "id": "55bb29db",
   "metadata": {},
   "outputs": [
    {
     "ename": "NotImplementedError",
     "evalue": "SymPy supports just 1D and 2D matrices",
     "output_type": "error",
     "traceback": [
      "\u001b[1;31m---------------------------------------------------------------------------\u001b[0m",
      "\u001b[1;31mNotImplementedError\u001b[0m                       Traceback (most recent call last)",
      "\u001b[1;32m<ipython-input-14-eb59dfc848e1>\u001b[0m in \u001b[0;36m<module>\u001b[1;34m\u001b[0m\n\u001b[1;32m----> 1\u001b[1;33m \u001b[0mss2tf\u001b[0m\u001b[1;33m(\u001b[0m\u001b[0mA\u001b[0m\u001b[1;33m,\u001b[0m\u001b[0mB\u001b[0m\u001b[1;33m,\u001b[0m\u001b[0mC\u001b[0m\u001b[1;33m,\u001b[0m\u001b[0mD\u001b[0m\u001b[1;33m)\u001b[0m\u001b[1;33m\u001b[0m\u001b[1;33m\u001b[0m\u001b[0m\n\u001b[0m",
      "\u001b[1;32m<ipython-input-3-5be1e5f23e23>\u001b[0m in \u001b[0;36mss2tf\u001b[1;34m(A, B, C, D)\u001b[0m\n\u001b[0;32m      6\u001b[0m     \u001b[0minputs\u001b[0m\u001b[1;33m:\u001b[0m \u001b[0mA\u001b[0m \u001b[0mMatrix\u001b[0m\u001b[1;33m,\u001b[0m \u001b[0mB\u001b[0m \u001b[0mMatrix\u001b[0m\u001b[1;33m,\u001b[0m \u001b[0mC\u001b[0m \u001b[0mMatrix\u001b[0m\u001b[1;33m,\u001b[0m \u001b[0mD\u001b[0m \u001b[0mMatrix\u001b[0m\u001b[1;33m\u001b[0m\u001b[1;33m\u001b[0m\u001b[0m\n\u001b[0;32m      7\u001b[0m     returns: transfer function'''\n\u001b[1;32m----> 8\u001b[1;33m     \u001b[0mA\u001b[0m\u001b[1;33m,\u001b[0m\u001b[0mB\u001b[0m\u001b[1;33m,\u001b[0m\u001b[0mC\u001b[0m\u001b[1;33m,\u001b[0m\u001b[0mD\u001b[0m\u001b[1;33m=\u001b[0m\u001b[0mnumpy2sympy\u001b[0m\u001b[1;33m(\u001b[0m\u001b[0mA\u001b[0m\u001b[1;33m)\u001b[0m\u001b[1;33m,\u001b[0m\u001b[0mnumpy2sympy\u001b[0m\u001b[1;33m(\u001b[0m\u001b[0mB\u001b[0m\u001b[1;33m)\u001b[0m\u001b[1;33m,\u001b[0m\u001b[0mnumpy2sympy\u001b[0m\u001b[1;33m(\u001b[0m\u001b[0mC\u001b[0m\u001b[1;33m)\u001b[0m\u001b[1;33m,\u001b[0m\u001b[0mnumpy2sympy\u001b[0m\u001b[1;33m(\u001b[0m\u001b[0mD\u001b[0m\u001b[1;33m)\u001b[0m\u001b[1;33m\u001b[0m\u001b[1;33m\u001b[0m\u001b[0m\n\u001b[0m\u001b[0;32m      9\u001b[0m     \u001b[0mTF\u001b[0m\u001b[1;33m=\u001b[0m\u001b[0mC\u001b[0m\u001b[1;33m.\u001b[0m\u001b[0mtranspose\u001b[0m\u001b[1;33m(\u001b[0m\u001b[1;33m)\u001b[0m \u001b[1;33m*\u001b[0m \u001b[1;33m(\u001b[0m\u001b[0msym\u001b[0m\u001b[1;33m.\u001b[0m\u001b[0meye\u001b[0m\u001b[1;33m(\u001b[0m\u001b[0mA\u001b[0m\u001b[1;33m.\u001b[0m\u001b[0mshape\u001b[0m\u001b[1;33m[\u001b[0m\u001b[1;36m0\u001b[0m\u001b[1;33m]\u001b[0m\u001b[1;33m)\u001b[0m\u001b[1;33m*\u001b[0m\u001b[0ms\u001b[0m\u001b[1;33m-\u001b[0m\u001b[0mA\u001b[0m\u001b[1;33m)\u001b[0m\u001b[1;33m.\u001b[0m\u001b[0minv\u001b[0m\u001b[1;33m(\u001b[0m\u001b[1;33m)\u001b[0m \u001b[1;33m*\u001b[0m \u001b[0mB\u001b[0m \u001b[1;33m+\u001b[0m \u001b[0msym\u001b[0m\u001b[1;33m.\u001b[0m\u001b[0mMatrix\u001b[0m\u001b[1;33m(\u001b[0m\u001b[1;33m[\u001b[0m\u001b[0mD\u001b[0m\u001b[1;33m]\u001b[0m\u001b[1;33m)\u001b[0m\u001b[1;33m\u001b[0m\u001b[1;33m\u001b[0m\u001b[0m\n\u001b[0;32m     10\u001b[0m     \u001b[0mTF\u001b[0m\u001b[1;33m=\u001b[0m\u001b[0msym\u001b[0m\u001b[1;33m.\u001b[0m\u001b[0msimplify\u001b[0m\u001b[1;33m(\u001b[0m\u001b[0mTF\u001b[0m\u001b[1;33m)\u001b[0m\u001b[1;33m\u001b[0m\u001b[1;33m\u001b[0m\u001b[0m\n",
      "\u001b[1;32m<ipython-input-3-5be1e5f23e23>\u001b[0m in \u001b[0;36mnumpy2sympy\u001b[1;34m(M)\u001b[0m\n\u001b[0;32m      1\u001b[0m \u001b[1;32mdef\u001b[0m \u001b[0mnumpy2sympy\u001b[0m\u001b[1;33m(\u001b[0m\u001b[0mM\u001b[0m\u001b[1;33m)\u001b[0m\u001b[1;33m:\u001b[0m\u001b[1;33m\u001b[0m\u001b[1;33m\u001b[0m\u001b[0m\n\u001b[1;32m----> 2\u001b[1;33m     \u001b[1;32mreturn\u001b[0m \u001b[0msym\u001b[0m\u001b[1;33m.\u001b[0m\u001b[0mMatrix\u001b[0m\u001b[1;33m(\u001b[0m\u001b[0mM\u001b[0m\u001b[1;33m)\u001b[0m\u001b[1;33m\u001b[0m\u001b[1;33m\u001b[0m\u001b[0m\n\u001b[0m\u001b[0;32m      3\u001b[0m \u001b[1;33m\u001b[0m\u001b[0m\n\u001b[0;32m      4\u001b[0m \u001b[1;32mdef\u001b[0m \u001b[0mss2tf\u001b[0m\u001b[1;33m(\u001b[0m\u001b[0mA\u001b[0m\u001b[1;33m,\u001b[0m\u001b[0mB\u001b[0m\u001b[1;33m,\u001b[0m\u001b[0mC\u001b[0m\u001b[1;33m,\u001b[0m\u001b[0mD\u001b[0m\u001b[1;33m)\u001b[0m\u001b[1;33m:\u001b[0m\u001b[1;33m\u001b[0m\u001b[1;33m\u001b[0m\u001b[0m\n\u001b[0;32m      5\u001b[0m     '''this method converts from state space to transfer function\n",
      "\u001b[1;32m~\\anaconda3\\lib\\site-packages\\sympy\\matrices\\dense.py\u001b[0m in \u001b[0;36m__new__\u001b[1;34m(cls, *args, **kwargs)\u001b[0m\n\u001b[0;32m    297\u001b[0m \u001b[1;33m\u001b[0m\u001b[0m\n\u001b[0;32m    298\u001b[0m     \u001b[1;32mdef\u001b[0m \u001b[0m__new__\u001b[0m\u001b[1;33m(\u001b[0m\u001b[0mcls\u001b[0m\u001b[1;33m,\u001b[0m \u001b[1;33m*\u001b[0m\u001b[0margs\u001b[0m\u001b[1;33m,\u001b[0m \u001b[1;33m**\u001b[0m\u001b[0mkwargs\u001b[0m\u001b[1;33m)\u001b[0m\u001b[1;33m:\u001b[0m\u001b[1;33m\u001b[0m\u001b[1;33m\u001b[0m\u001b[0m\n\u001b[1;32m--> 299\u001b[1;33m         \u001b[1;32mreturn\u001b[0m \u001b[0mcls\u001b[0m\u001b[1;33m.\u001b[0m\u001b[0m_new\u001b[0m\u001b[1;33m(\u001b[0m\u001b[1;33m*\u001b[0m\u001b[0margs\u001b[0m\u001b[1;33m,\u001b[0m \u001b[1;33m**\u001b[0m\u001b[0mkwargs\u001b[0m\u001b[1;33m)\u001b[0m\u001b[1;33m\u001b[0m\u001b[1;33m\u001b[0m\u001b[0m\n\u001b[0m\u001b[0;32m    300\u001b[0m \u001b[1;33m\u001b[0m\u001b[0m\n\u001b[0;32m    301\u001b[0m     \u001b[1;33m@\u001b[0m\u001b[0mclassmethod\u001b[0m\u001b[1;33m\u001b[0m\u001b[1;33m\u001b[0m\u001b[0m\n",
      "\u001b[1;32m~\\anaconda3\\lib\\site-packages\\sympy\\matrices\\dense.py\u001b[0m in \u001b[0;36m_new\u001b[1;34m(cls, copy, *args, **kwargs)\u001b[0m\n\u001b[0;32m    308\u001b[0m             \u001b[0mrows\u001b[0m\u001b[1;33m,\u001b[0m \u001b[0mcols\u001b[0m\u001b[1;33m,\u001b[0m \u001b[0mflat_list\u001b[0m \u001b[1;33m=\u001b[0m \u001b[0margs\u001b[0m\u001b[1;33m\u001b[0m\u001b[1;33m\u001b[0m\u001b[0m\n\u001b[0;32m    309\u001b[0m         \u001b[1;32melse\u001b[0m\u001b[1;33m:\u001b[0m\u001b[1;33m\u001b[0m\u001b[1;33m\u001b[0m\u001b[0m\n\u001b[1;32m--> 310\u001b[1;33m             \u001b[0mrows\u001b[0m\u001b[1;33m,\u001b[0m \u001b[0mcols\u001b[0m\u001b[1;33m,\u001b[0m \u001b[0mflat_list\u001b[0m \u001b[1;33m=\u001b[0m \u001b[0mcls\u001b[0m\u001b[1;33m.\u001b[0m\u001b[0m_handle_creation_inputs\u001b[0m\u001b[1;33m(\u001b[0m\u001b[1;33m*\u001b[0m\u001b[0margs\u001b[0m\u001b[1;33m,\u001b[0m \u001b[1;33m**\u001b[0m\u001b[0mkwargs\u001b[0m\u001b[1;33m)\u001b[0m\u001b[1;33m\u001b[0m\u001b[1;33m\u001b[0m\u001b[0m\n\u001b[0m\u001b[0;32m    311\u001b[0m             \u001b[0mflat_list\u001b[0m \u001b[1;33m=\u001b[0m \u001b[0mlist\u001b[0m\u001b[1;33m(\u001b[0m\u001b[0mflat_list\u001b[0m\u001b[1;33m)\u001b[0m \u001b[1;31m# create a shallow copy\u001b[0m\u001b[1;33m\u001b[0m\u001b[1;33m\u001b[0m\u001b[0m\n\u001b[0;32m    312\u001b[0m         \u001b[0mself\u001b[0m \u001b[1;33m=\u001b[0m \u001b[0mobject\u001b[0m\u001b[1;33m.\u001b[0m\u001b[0m__new__\u001b[0m\u001b[1;33m(\u001b[0m\u001b[0mcls\u001b[0m\u001b[1;33m)\u001b[0m\u001b[1;33m\u001b[0m\u001b[1;33m\u001b[0m\u001b[0m\n",
      "\u001b[1;32m~\\anaconda3\\lib\\site-packages\\sympy\\matrices\\matrices.py\u001b[0m in \u001b[0;36m_handle_creation_inputs\u001b[1;34m(cls, *args, **kwargs)\u001b[0m\n\u001b[0;32m    982\u001b[0m             \u001b[1;31m# Matrix(numpy.ones((2, 2)))\u001b[0m\u001b[1;33m\u001b[0m\u001b[1;33m\u001b[0m\u001b[1;33m\u001b[0m\u001b[0m\n\u001b[0;32m    983\u001b[0m             \u001b[1;32melif\u001b[0m \u001b[0mhasattr\u001b[0m\u001b[1;33m(\u001b[0m\u001b[0margs\u001b[0m\u001b[1;33m[\u001b[0m\u001b[1;36m0\u001b[0m\u001b[1;33m]\u001b[0m\u001b[1;33m,\u001b[0m \u001b[1;34m\"__array__\"\u001b[0m\u001b[1;33m)\u001b[0m\u001b[1;33m:\u001b[0m\u001b[1;33m\u001b[0m\u001b[1;33m\u001b[0m\u001b[0m\n\u001b[1;32m--> 984\u001b[1;33m                 \u001b[1;32mreturn\u001b[0m \u001b[0mcls\u001b[0m\u001b[1;33m.\u001b[0m\u001b[0m_handle_ndarray\u001b[0m\u001b[1;33m(\u001b[0m\u001b[0margs\u001b[0m\u001b[1;33m[\u001b[0m\u001b[1;36m0\u001b[0m\u001b[1;33m]\u001b[0m\u001b[1;33m)\u001b[0m\u001b[1;33m\u001b[0m\u001b[1;33m\u001b[0m\u001b[0m\n\u001b[0m\u001b[0;32m    985\u001b[0m \u001b[1;33m\u001b[0m\u001b[0m\n\u001b[0;32m    986\u001b[0m             \u001b[1;31m# Matrix([1, 2, 3]) or Matrix([[1, 2], [3, 4]])\u001b[0m\u001b[1;33m\u001b[0m\u001b[1;33m\u001b[0m\u001b[1;33m\u001b[0m\u001b[0m\n",
      "\u001b[1;32m~\\anaconda3\\lib\\site-packages\\sympy\\matrices\\matrices.py\u001b[0m in \u001b[0;36m_handle_ndarray\u001b[1;34m(cls, arg)\u001b[0m\n\u001b[0;32m    906\u001b[0m             \u001b[1;32mreturn\u001b[0m \u001b[0marr\u001b[0m\u001b[1;33m.\u001b[0m\u001b[0mshape\u001b[0m\u001b[1;33m[\u001b[0m\u001b[1;36m0\u001b[0m\u001b[1;33m]\u001b[0m\u001b[1;33m,\u001b[0m \u001b[1;36m1\u001b[0m\u001b[1;33m,\u001b[0m \u001b[0mflat_list\u001b[0m\u001b[1;33m\u001b[0m\u001b[1;33m\u001b[0m\u001b[0m\n\u001b[0;32m    907\u001b[0m         \u001b[1;32melse\u001b[0m\u001b[1;33m:\u001b[0m\u001b[1;33m\u001b[0m\u001b[1;33m\u001b[0m\u001b[0m\n\u001b[1;32m--> 908\u001b[1;33m             raise NotImplementedError(\n\u001b[0m\u001b[0;32m    909\u001b[0m                 \"SymPy supports just 1D and 2D matrices\")\n\u001b[0;32m    910\u001b[0m \u001b[1;33m\u001b[0m\u001b[0m\n",
      "\u001b[1;31mNotImplementedError\u001b[0m: SymPy supports just 1D and 2D matrices"
     ]
    }
   ],
   "source": [
    "ss2tf(A,B,C,D)"
   ]
  },
  {
   "cell_type": "code",
   "execution_count": 18,
   "id": "261410d9",
   "metadata": {},
   "outputs": [],
   "source": []
  },
  {
   "cell_type": "code",
   "execution_count": 120,
   "id": "31349158",
   "metadata": {},
   "outputs": [],
   "source": [
    "n=np.array([2,10])\n",
    "d=np.array([45,43,13])\n",
    "\n",
    "\n",
    "def step(n,d,t=10,color=None):\n",
    "    \n",
    "    '''\n",
    "    plots the step response of a transfer function\n",
    "    \n",
    "    Parameters: TF numerator, TF denominator, response time, line color\n",
    "    The supported color abbreviations are the single letter codes\n",
    "\n",
    "    =============    ===============================\n",
    "    character        color\n",
    "    =============    ===============================\n",
    "    ``'b'``          blue\n",
    "    ``'g'``          green\n",
    "    ``'r'``          red\n",
    "    ``'c'``          cyan\n",
    "    ``'m'``          magenta\n",
    "    ``'y'``          yellow\n",
    "    ``'k'``          black\n",
    "    ``'w'``          white\n",
    "    =============    ===============================\n",
    "    '''\n",
    "    tf=sym.Poly(n,s)/sym.Poly(d,s)\n",
    "    Sresp=(1/s)*tf #step response in s domain\n",
    "\n",
    "    mp.dps = 15; mp.pretty = True\n",
    "    tt = np.linspace(.001,t,100)\n",
    "    fs = lambda s: eval(str(Sresp)) # Sresp as a lambda expression so that mpmath can deal with it\n",
    "    y=[]                             \n",
    "    for tti in tt:\n",
    "        y.append(invertlaplace(fs,tti,method='talbot')) # numerically evaluating inverse laplace  \n",
    "                                                        # for all pointss in tt array\n",
    "    \n",
    "    \n",
    "    e_ss=sym.limit(1-tf,s,0)  # steady state error\n",
    "    ssResp=1-e_ss\n",
    "    plt.plot(tt,y,color=color)\n",
    "    plt.axhline(ssResp, linestyle = 'dotted',color = 'g')"
   ]
  },
  {
   "cell_type": "code",
   "execution_count": null,
   "id": "1c216b5a",
   "metadata": {},
   "outputs": [],
   "source": []
  },
  {
   "cell_type": "code",
   "execution_count": 121,
   "id": "3d855789",
   "metadata": {},
   "outputs": [
    {
     "data": {
      "image/png": "[encoded data removed]",
      "text/plain": [
       "<Figure size 432x288 with 1 Axes>"
      ]
     },
     "metadata": {
      "needs_background": "light"
     },
     "output_type": "display_data"
    }
   ],
   "source": [
    "step(n,d,40)"
   ]
  },
  {
   "cell_type": "code",
   "execution_count": null,
   "id": "83094da0",
   "metadata": {},
   "outputs": [],
   "source": []
  },
  {
   "cell_type": "code",
   "execution_count": null,
   "id": "d754672c",
   "metadata": {},
   "outputs": [],
   "source": []
  },
  {
   "cell_type": "code",
   "execution_count": null,
   "id": "e166eecb",
   "metadata": {},
   "outputs": [],
   "source": []
  },
  {
   "cell_type": "code",
   "execution_count": null,
   "id": "394c44ed",
   "metadata": {},
   "outputs": [],
   "source": []
  }
 ],
 "metadata": {
  "kernelspec": {
   "display_name": "Python 3",
   "language": "python",
   "name": "python3"
  }
 },
 "nbformat": 4,
 "nbformat_minor": 5
}
