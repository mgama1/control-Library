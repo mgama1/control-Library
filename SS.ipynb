{
 "cells": [
  {
   "cell_type": "code",
   "execution_count": 186,
   "id": "8a96bb82",
   "metadata": {},
   "outputs": [],
   "source": [
    "import numpy as np\n",
    "import sympy as sym\n",
    "import pandas as pd"
   ]
  },
  {
   "cell_type": "code",
   "execution_count": 498,
   "id": "12438067",
   "metadata": {},
   "outputs": [],
   "source": [
    "s,t = sym.symbols('s t', real = True)\n",
    "x1,x2,x3 = sym.symbols('x1 x2 x3')\n",
    "A=np.array([[3, 10],[5,2]])\n",
    "B=np.array([1,1])\n",
    "C=np.array([1,0])\n",
    "D=np.array([0])\n",
    "\n",
    "\n"
   ]
  },
  {
   "cell_type": "code",
   "execution_count": 444,
   "id": "7c599249",
   "metadata": {},
   "outputs": [
    {
     "data": {
      "text/latex": [
       "$\\displaystyle \\left[\\begin{matrix}\\frac{s + 8}{s^{2} - 5 s - 44}\\end{matrix}\\right]$"
      ],
      "text/plain": [
       "Matrix([[(s + 8)/(s**2 - 5*s - 44)]])"
      ]
     },
     "execution_count": 444,
     "metadata": {},
     "output_type": "execute_result"
    }
   ],
   "source": [
    "def numpy2sympy(M):\n",
    "    return sym.Matrix(M)\n",
    "\n",
    "def ss2tf(A,B,C,D):\n",
    "    '''this method converts from state space to transfer function\n",
    "    inputs: A Matrix, B Matrix, C Matrix, D Matrix\n",
    "    returns: transfer function'''\n",
    "    A,B,C,D=numpy2sympy(A),numpy2sympy(B),numpy2sympy(C),numpy2sympy(D)   \n",
    "    TF=C.transpose() * (sym.eye(A.shape[0])*s-A).inv() * B + sym.Matrix([D])\n",
    "    TF=sym.simplify(TF)\n",
    "    return TF\n",
    "ss2tf(A,B,C,D)\n"
   ]
  },
  {
   "cell_type": "code",
   "execution_count": 446,
   "id": "ca293c10",
   "metadata": {},
   "outputs": [
    {
     "data": {
      "text/plain": [
       "True"
      ]
     },
     "execution_count": 446,
     "metadata": {},
     "output_type": "execute_result"
    }
   ],
   "source": [
    "A=np.array([[0, 1,0],[0,0,1],[-6,-11,-6]])\n",
    "def isStable(A):\n",
    "    '''checks whether a system is stable or not\n",
    "    Parameters: A Matrix\n",
    "    return True or False'''\n",
    "    A=numpy2sympy(A)\n",
    "    for i in A.eigenvals().keys():\n",
    "        if i>0:\n",
    "            return False\n",
    "        else:\n",
    "            return True\n",
    "isStable(A)\n"
   ]
  },
  {
   "cell_type": "code",
   "execution_count": null,
   "id": "7f2cc506",
   "metadata": {},
   "outputs": [],
   "source": []
  },
  {
   "cell_type": "code",
   "execution_count": 448,
   "id": "820c08e3",
   "metadata": {},
   "outputs": [
    {
     "data": {
      "text/plain": [
       "True"
      ]
     },
     "execution_count": 448,
     "metadata": {},
     "output_type": "execute_result"
    }
   ],
   "source": [
    "A=np.array([[0, 1],[-1,-2]])\n",
    "C=np.array([1,0])\n",
    "\n",
    "def isObservable(A,C):\n",
    "    '''checks whether a system is observable or not\n",
    "    Parameters: A Matrix, C Matrix\n",
    "    return True or False'''\n",
    "    A,C=numpy2sympy(A),numpy2sympy(C)\n",
    "    n=A.shape[0]        \n",
    "    O=C.transpose()\n",
    "    for i in range(n-1):\n",
    "        O=O.row_insert(i+1,C.transpose()*A**(i+1))\n",
    "    if O.rank()==n:\n",
    "        return True\n",
    "    else :\n",
    "        return False\n",
    "\n",
    "isObservable(A,C)\n",
    "\n"
   ]
  },
  {
   "cell_type": "code",
   "execution_count": 449,
   "id": "040c7588",
   "metadata": {},
   "outputs": [
    {
     "data": {
      "text/plain": [
       "True"
      ]
     },
     "execution_count": 449,
     "metadata": {},
     "output_type": "execute_result"
    }
   ],
   "source": [
    "A=np.array([[0, 1],[-1,-2]])\n",
    "B=np.array([0,1])\n",
    "\n",
    "def isControllable(A,B):\n",
    "    '''checks whether a system is controllable or not\n",
    "    Parameters: A Matrix, B Matrix\n",
    "    return True or False'''\n",
    "    A,B=numpy2sympy(A),numpy2sympy(B) \n",
    "    n=A.shape[0]\n",
    "    c=B\n",
    "    for i in range(n-1):\n",
    "        c=c.col_insert(i+1,A**(i+1)*B)\n",
    "        \n",
    "    if c.rank()==n:\n",
    "        return True\n",
    "    else :\n",
    "        return False\n",
    "\n",
    "    \n",
    "isControllable(A,B)"
   ]
  },
  {
   "cell_type": "code",
   "execution_count": 450,
   "id": "7a88922d",
   "metadata": {},
   "outputs": [],
   "source": [
    "def tf2ss(num,den):\n",
    "    pass"
   ]
  },
  {
   "cell_type": "code",
   "execution_count": null,
   "id": "becb3f2f",
   "metadata": {},
   "outputs": [],
   "source": []
  },
  {
   "cell_type": "code",
   "execution_count": 511,
   "id": "1a17212d",
   "metadata": {},
   "outputs": [],
   "source": [
    "#take too much time to inverse laplace\n",
    "A=np.array([[3, 10],[5,2]])\n",
    "B=np.array([1,1])\n",
    "x0=np.array([1,0])\n",
    "u=1\n",
    "\n",
    "def solve(A,B,x0,u):\n",
    "    '''finds the system solution in S domain\n",
    "    Parameters: A Matrix ,B Matrix,initial condtion Matrix,input u\n",
    "    returns: system solution in time domain\n",
    "    '''\n",
    "    A,B,x0=numpy2sympy(A),numpy2sympy(B),numpy2sympy(x0)\n",
    "    u=sym.laplace_transform(u, t, s, noconds=True)\n",
    "    x=(sym.eye(A.shape[0])*s-A).inv()*x0 +(sym.eye(A.shape[0])*s-A).inv()*B*u\n",
    "    x=sym.simplify(x)\n",
    "\n",
    "    return x\n"
   ]
  },
  {
   "cell_type": "code",
   "execution_count": 512,
   "id": "6f21cf3f",
   "metadata": {},
   "outputs": [
    {
     "data": {
      "text/latex": [
       "$\\displaystyle \\left[\\begin{matrix}\\frac{s^{2} - s + 8}{s \\left(s^{2} - 5 s - 44\\right)}\\\\\\frac{2 \\left(3 s + 1\\right)}{s \\left(s^{2} - 5 s - 44\\right)}\\end{matrix}\\right]$"
      ],
      "text/plain": [
       "Matrix([\n",
       "[(s**2 - s + 8)/(s*(s**2 - 5*s - 44))],\n",
       "[   2*(3*s + 1)/(s*(s**2 - 5*s - 44))]])"
      ]
     },
     "execution_count": 512,
     "metadata": {},
     "output_type": "execute_result"
    }
   ],
   "source": [
    "solve(A,B,x0,u)"
   ]
  },
  {
   "cell_type": "code",
   "execution_count": 76,
   "id": "6c47c2d9",
   "metadata": {},
   "outputs": [],
   "source": []
  },
  {
   "cell_type": "code",
   "execution_count": 513,
   "id": "54b83544",
   "metadata": {},
   "outputs": [],
   "source": [
    "def roots2poly(*roots):\n",
    "    from sympy import Symbol\n",
    "    x = Symbol('x')\n",
    "    whole =1\n",
    "    for root in roots:\n",
    "        whole *=(x-root)\n",
    "    p=sym.poly(whole.expand(),x)\n",
    "    p=p.all_coeffs()\n",
    "    return p \n",
    "\n",
    "\n",
    "def placePoles(A,B,p):\n",
    "    '''\n",
    "    finds gain k for pole placplacement using Ackermann's method\n",
    "    Parameters: A Matrix,B Matrix, poles\n",
    "    returns: gain vector\n",
    "    \n",
    "    '''\n",
    "    A,B=numpy2sympy(A),numpy2sympy(B)  \n",
    "\n",
    "    arr=np.zeros((1,A.shape[0]-1))\n",
    "    arr=sym.Matrix(np.append(arr,[1])).transpose()\n",
    "    \n",
    "    \n",
    "    n=A.shape[0]\n",
    "    c=B\n",
    "    for i in range(n-1):\n",
    "        c=c.col_insert(i+1,A**(i+1)*B)\n",
    "    \n",
    "    Q=sym.zeros(A.shape[0])\n",
    "    for i in range(len(p)):\n",
    "        Q=Q+p[i]*A**(len(p)-1-i)\n",
    "    \n",
    "    return (arr * c.inv() * Q)  \n",
    "\n",
    "A=np.array([[0, 1,0],[0,0,1],[-2,-3,-5]])\n",
    "B=np.array([0,0,1])\n",
    "p=roots2poly(-4+3j,-4-3j,-4)\n",
    "\n",
    "\n",
    "\n"
   ]
  },
  {
   "cell_type": "code",
   "execution_count": 514,
   "id": "b2086919",
   "metadata": {},
   "outputs": [
    {
     "data": {
      "text/latex": [
       "$\\displaystyle \\left[\\begin{matrix}98.0 & 54.0 & 7.0\\end{matrix}\\right]$"
      ],
      "text/plain": [
       "Matrix([[98.0, 54.0, 7.0]])"
      ]
     },
     "execution_count": 514,
     "metadata": {},
     "output_type": "execute_result"
    }
   ],
   "source": [
    "k=placePoles(A,B,p)\n",
    "k"
   ]
  },
  {
   "cell_type": "code",
   "execution_count": null,
   "id": "abcdda50",
   "metadata": {},
   "outputs": [],
   "source": []
  },
  {
   "cell_type": "code",
   "execution_count": null,
   "id": "56c22116",
   "metadata": {},
   "outputs": [],
   "source": []
  },
  {
   "cell_type": "code",
   "execution_count": null,
   "id": "2344d94e",
   "metadata": {},
   "outputs": [],
   "source": []
  },
  {
   "cell_type": "code",
   "execution_count": 463,
   "id": "74e0da72",
   "metadata": {},
   "outputs": [],
   "source": [
    "\n",
    "n0=np.array([2,1,1,4])\n",
    "d0=np.array([5,1,3,6])\n",
    "n=n0/d0[0]\n",
    "d=d0/d0[0]\n",
    "A=np.zeros((len(d)-1,len(d)-1))\n",
    "A[:,0]=-1*d[1:]\n",
    "A[0:len(d)-2,1:]=np.eye(len(d)-2)\n",
    "\n",
    "\n",
    "C=np.zeros(len(d)-1)\n",
    "C[0]=1/d0[0]\n",
    "\n",
    "D=np.array([n[0]])"
   ]
  },
  {
   "cell_type": "code",
   "execution_count": 464,
   "id": "55bb29db",
   "metadata": {},
   "outputs": [
    {
     "data": {
      "text/latex": [
       "$\\displaystyle \\left[\\begin{matrix}\\frac{0.144 s^{5} + 0.0575999999999999 s^{4} + 0.17856 s^{3} + 0.27936 s^{2} + 0.1008 s + 0.14688}{0.36 s^{5} + 0.144 s^{4} + 0.4464 s^{3} + 0.5184 s^{2} + 0.216 s + 0.2592}\\end{matrix}\\right]$"
      ],
      "text/plain": [
       "Matrix([[(0.144*s**5 + 0.0575999999999999*s**4 + 0.17856*s**3 + 0.27936*s**2 + 0.1008*s + 0.14688)/(0.36*s**5 + 0.144*s**4 + 0.4464*s**3 + 0.5184*s**2 + 0.216*s + 0.2592)]])"
      ]
     },
     "execution_count": 464,
     "metadata": {},
     "output_type": "execute_result"
    }
   ],
   "source": [
    "ss2tf(A,B,C,D)"
   ]
  },
  {
   "cell_type": "code",
   "execution_count": null,
   "id": "7aa71d26",
   "metadata": {},
   "outputs": [],
   "source": []
  },
  {
   "cell_type": "code",
   "execution_count": 402,
   "id": "74b93347",
   "metadata": {},
   "outputs": [
    {
     "data": {
      "text/plain": [
       "(array([[-0.2,  1. ,  0. ],\n",
       "        [-0.6,  0. ,  1. ],\n",
       "        [-1.2,  0. ,  0. ]]),\n",
       " array([0.2, 0. , 0. ]),\n",
       " array([0.4]))"
      ]
     },
     "execution_count": 402,
     "metadata": {},
     "output_type": "execute_result"
    }
   ],
   "source": []
  },
  {
   "cell_type": "code",
   "execution_count": null,
   "id": "261410d9",
   "metadata": {},
   "outputs": [],
   "source": []
  },
  {
   "cell_type": "code",
   "execution_count": null,
   "id": "31349158",
   "metadata": {},
   "outputs": [],
   "source": []
  },
  {
   "cell_type": "code",
   "execution_count": null,
   "id": "71ccc209",
   "metadata": {},
   "outputs": [],
   "source": []
  }
 ],
 "metadata": {
  "kernelspec": {
   "display_name": "Python 3",
   "language": "python",
   "name": "python3"
  },
  "language_info": {
   "codemirror_mode": {
    "name": "ipython",
    "version": 3
   },
   "file_extension": ".py",
   "mimetype": "text/x-python",
   "name": "python",
   "nbconvert_exporter": "python",
   "pygments_lexer": "ipython3",
   "version": "3.8.8"
  }
 },
 "nbformat": 4,
 "nbformat_minor": 5
}
