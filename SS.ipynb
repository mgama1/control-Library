{
 "cells": [
  {
   "cell_type": "code",
   "execution_count": 56,
   "id": "8a96bb82",
   "metadata": {},
   "outputs": [],
   "source": [
    "import numpy as np\n",
    "import sympy as sym\n",
    "import pandas as pd"
   ]
  },
  {
   "cell_type": "code",
   "execution_count": 2,
   "id": "12438067",
   "metadata": {},
   "outputs": [],
   "source": [
    "s,t = sym.symbols('s t')\n",
    "x1,x2,x3 = sym.symbols('x1 x2 x3')\n"
   ]
  },
  {
   "cell_type": "code",
   "execution_count": 54,
   "id": "7c599249",
   "metadata": {},
   "outputs": [
    {
     "data": {
      "text/latex": [
       "$\\displaystyle \\left[\\begin{matrix}\\frac{s + 8}{s^{2} - 5 s - 44}\\end{matrix}\\right]$"
      ],
      "text/plain": [
       "Matrix([[(s + 8)/(s**2 - 5*s - 44)]])"
      ]
     },
     "execution_count": 54,
     "metadata": {},
     "output_type": "execute_result"
    }
   ],
   "source": [
    "\n",
    "A=sym.Matrix([[3, 10],[5,2]])\n",
    "B=sym.Matrix([1,1])\n",
    "C=sym.Matrix([1,0])\n",
    "D=0\n",
    "def ss2tf(A,B,C,D):\n",
    "    '''this method converts from state space to transfer function\n",
    "    inputs: A,B,C,D\n",
    "    returns: transfer function'''\n",
    "    TF=C.transpose() * (sym.eye(A.shape[0])*s-A).inv() * B + sym.Matrix([D])\n",
    "    TF=sym.simplify(TF)\n",
    "    return TF\n",
    "\n",
    "ss2tf(A,B,C,D)"
   ]
  },
  {
   "cell_type": "code",
   "execution_count": 70,
   "id": "ca293c10",
   "metadata": {},
   "outputs": [
    {
     "data": {
      "text/plain": [
       "True"
      ]
     },
     "execution_count": 70,
     "metadata": {},
     "output_type": "execute_result"
    }
   ],
   "source": [
    "A=sym.Matrix([[0, 1,0],[0,0,1],[-6,-11,-6]])\n",
    "def isStable(A):\n",
    "    '''checks whether a system is stable or not\n",
    "    Parameters: A\n",
    "    return True or False'''\n",
    "    for i in A.eigenvals().keys():\n",
    "        if i>0:\n",
    "            return False\n",
    "        else:\n",
    "            return True\n",
    "isStable(A)\n"
   ]
  },
  {
   "cell_type": "code",
   "execution_count": null,
   "id": "7f2cc506",
   "metadata": {},
   "outputs": [],
   "source": []
  },
  {
   "cell_type": "code",
   "execution_count": 73,
   "id": "820c08e3",
   "metadata": {},
   "outputs": [
    {
     "data": {
      "text/plain": [
       "True"
      ]
     },
     "execution_count": 73,
     "metadata": {},
     "output_type": "execute_result"
    }
   ],
   "source": [
    "A=sym.Matrix([[0, 1],[-1,-2]])\n",
    "C=sym.Matrix([1,0])\n",
    "\n",
    "def isObservable(A,C):\n",
    "    '''checks whether a system is observable or not\n",
    "    Parameters: A,C\n",
    "    return True or False'''\n",
    "    n=A.shape[0]        \n",
    "    O=C.transpose()\n",
    "    for i in range(n-1):\n",
    "        O=O.row_insert(i+1,C.transpose()*A**(i+1))\n",
    "    if O.rank()==n:\n",
    "        return True\n",
    "    else :\n",
    "        return False\n",
    "\n",
    "isObservable(A,C)\n",
    "\n"
   ]
  },
  {
   "cell_type": "code",
   "execution_count": 75,
   "id": "040c7588",
   "metadata": {},
   "outputs": [
    {
     "data": {
      "text/plain": [
       "True"
      ]
     },
     "execution_count": 75,
     "metadata": {},
     "output_type": "execute_result"
    }
   ],
   "source": [
    "A=sym.Matrix([[0, 1],[-1,-2]])\n",
    "B=sym.Matrix([0,1])\n",
    "\n",
    "def isControllable(A,B):\n",
    "    '''checks whether a system is controllable or not\n",
    "    Parameters: A,B\n",
    "    return True or False'''\n",
    "    n=A.shape[0]\n",
    "    c=B\n",
    "    for i in range(n-1):\n",
    "        c=c.col_insert(i+1,A**(i+1)*B)\n",
    "        \n",
    "    if c.rank()==n:\n",
    "        return True\n",
    "    else :\n",
    "        return False\n",
    "\n",
    "    \n",
    "isControllable(A,B)"
   ]
  },
  {
   "cell_type": "code",
   "execution_count": 7,
   "id": "7a88922d",
   "metadata": {},
   "outputs": [],
   "source": [
    "def tf2ss(num,den):\n",
    "    pass"
   ]
  },
  {
   "cell_type": "code",
   "execution_count": 8,
   "id": "becb3f2f",
   "metadata": {},
   "outputs": [
    {
     "data": {
      "text/plain": [
       "'3/(s + 3) - 6/(s + 2) + 3/(s + 1)'"
      ]
     },
     "execution_count": 8,
     "metadata": {},
     "output_type": "execute_result"
    }
   ],
   "source": [
    "f = 6/(s**3+6*s**2+11*s+6)\n",
    "p=sym.apart(f)\n",
    "str(p)"
   ]
  },
  {
   "cell_type": "code",
   "execution_count": 27,
   "id": "1a17212d",
   "metadata": {},
   "outputs": [],
   "source": [
    "#later\n",
    "A=sym.Matrix([[0, 1,0],[0,0,1],[-10,-17,-8]])\n",
    "B=sym.Matrix([0,0,1])\n",
    "x0=sym.Matrix([1,1,0])\n",
    "u=1\n",
    "\n",
    "def solve(A,B,x0,u):\n",
    "    x=(sym.eye(A.shape[0])*s-A).inv()*x0 +(sym.eye(A.shape[0])*s-A).inv()*B*u\n",
    "    x=sym.simplify(x)\n",
    "\n",
    "    x=sym.inverse_laplace_transform(x, s, t)\n",
    "\n",
    "    return x\n"
   ]
  },
  {
   "cell_type": "code",
   "execution_count": 26,
   "id": "6f21cf3f",
   "metadata": {},
   "outputs": [],
   "source": [
    "#solve(A,B,x0,u)"
   ]
  },
  {
   "cell_type": "code",
   "execution_count": 76,
   "id": "6c47c2d9",
   "metadata": {},
   "outputs": [],
   "source": [
    "# k =[0 0 0  1] Pc^-1 Q(A)\n"
   ]
  },
  {
   "cell_type": "code",
   "execution_count": 224,
   "id": "54b83544",
   "metadata": {},
   "outputs": [],
   "source": [
    "A=sym.Matrix([[0, 1,0],[0,0,1],[-2,-3,-5]])\n",
    "B=sym.Matrix([0,0,1])\n",
    "p=roots2poly(-4+3j,-4-3j,-4)\n",
    "\n",
    "def roots2poly(*roots):\n",
    "    from sympy import Symbol\n",
    "    x = Symbol('x')\n",
    "    whole =1\n",
    "    for root in roots:\n",
    "        whole *=(x-root)\n",
    "    p=sym.poly(whole.expand(),x)\n",
    "    p=p.all_coeffs()\n",
    "    return p \n",
    "\n",
    "\n",
    "def placePoles(A,B,p):\n",
    "    arr=np.zeros((1,A.shape[0]-1))\n",
    "    arr=sym.Matrix(np.append(arr,[1])).transpose()\n",
    "    \n",
    "    \n",
    "    n=A.shape[0]\n",
    "    c=B\n",
    "    for i in range(n-1):\n",
    "        c=c.col_insert(i+1,A**(i+1)*B)\n",
    "    \n",
    "    Q=sym.zeros(A.shape[0])\n",
    "    for i in range(len(p)):\n",
    "        Q=Q+p[i]*A**(len(p)-1-i)\n",
    "    \n",
    "    return (arr * c.inv() * Q)  \n",
    "\n",
    "\n",
    "\n",
    "\n"
   ]
  },
  {
   "cell_type": "code",
   "execution_count": 225,
   "id": "b2086919",
   "metadata": {},
   "outputs": [
    {
     "data": {
      "text/latex": [
       "$\\displaystyle \\left[\\begin{matrix}98.0 & 54.0 & 7.0\\end{matrix}\\right]$"
      ],
      "text/plain": [
       "Matrix([[98.0, 54.0, 7.0]])"
      ]
     },
     "execution_count": 225,
     "metadata": {},
     "output_type": "execute_result"
    }
   ],
   "source": [
    "placePoles(A,B,p)\n"
   ]
  },
  {
   "cell_type": "code",
   "execution_count": null,
   "id": "abcdda50",
   "metadata": {},
   "outputs": [],
   "source": []
  },
  {
   "cell_type": "code",
   "execution_count": null,
   "id": "74e0da72",
   "metadata": {},
   "outputs": [],
   "source": []
  },
  {
   "cell_type": "code",
   "execution_count": null,
   "id": "55bb29db",
   "metadata": {},
   "outputs": [],
   "source": []
  },
  {
   "cell_type": "code",
   "execution_count": null,
   "id": "7aa71d26",
   "metadata": {},
   "outputs": [],
   "source": []
  },
  {
   "cell_type": "code",
   "execution_count": null,
   "id": "74b93347",
   "metadata": {},
   "outputs": [],
   "source": []
  },
  {
   "cell_type": "code",
   "execution_count": null,
   "id": "261410d9",
   "metadata": {},
   "outputs": [],
   "source": []
  },
  {
   "cell_type": "code",
   "execution_count": null,
   "id": "31349158",
   "metadata": {},
   "outputs": [],
   "source": []
  }
 ],
 "metadata": {
  "kernelspec": {
   "display_name": "Python 3",
   "language": "python",
   "name": "python3"
  },
  "language_info": {
   "codemirror_mode": {
    "name": "ipython",
    "version": 3
   },
   "file_extension": ".py",
   "mimetype": "text/x-python",
   "name": "python",
   "nbconvert_exporter": "python",
   "pygments_lexer": "ipython3",
   "version": "3.8.8"
  }
 },
 "nbformat": 4,
 "nbformat_minor": 5
}
