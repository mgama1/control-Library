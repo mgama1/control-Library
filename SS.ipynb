{
 "cells": [
  {
   "cell_type": "code",
   "execution_count": 1,
   "id": "8a96bb82",
   "metadata": {},
   "outputs": [],
   "source": [
    "import numpy as np\n",
    "import sympy as sym\n"
   ]
  },
  {
   "cell_type": "code",
   "execution_count": 18,
   "id": "12438067",
   "metadata": {},
   "outputs": [],
   "source": [
    "s,t = sym.symbols('s t')\n",
    "x1,x2,x3 = sym.symbols('x1 x2 x3')\n"
   ]
  },
  {
   "cell_type": "code",
   "execution_count": 3,
   "id": "7c599249",
   "metadata": {},
   "outputs": [
    {
     "data": {
      "text/latex": [
       "$\\displaystyle \\left[\\begin{matrix}\\frac{s + 8}{s^{2} - 5 s - 44}\\end{matrix}\\right]$"
      ],
      "text/plain": [
       "Matrix([[(s + 8)/(s**2 - 5*s - 44)]])"
      ]
     },
     "execution_count": 3,
     "metadata": {},
     "output_type": "execute_result"
    }
   ],
   "source": [
    "\n",
    "A=sym.Matrix([[3, 10],[5,2]])\n",
    "B=sym.Matrix([1,1])\n",
    "C=sym.Matrix([1,0])\n",
    "D=0\n",
    "def ss2tf(A,B,C,D):\n",
    "    TF=C.transpose() * (sym.eye(A.shape[0])*s-A).inv() * B + sym.Matrix([D])\n",
    "    TF=sym.simplify(TF)\n",
    "    return TF\n",
    "\n",
    "ss2tf(A,B,C,D)"
   ]
  },
  {
   "cell_type": "code",
   "execution_count": 4,
   "id": "ca293c10",
   "metadata": {},
   "outputs": [
    {
     "data": {
      "text/plain": [
       "'stable'"
      ]
     },
     "execution_count": 4,
     "metadata": {},
     "output_type": "execute_result"
    }
   ],
   "source": [
    "A=sym.Matrix([[0, 1,0],[0,0,1],[-6,-11,-6]])\n",
    "\n",
    "def isStable(A):\n",
    "    for i in A.eigenvals().keys():\n",
    "        if i>0:\n",
    "            return \"unstable\"\n",
    "        else:\n",
    "            return \"stable\"\n",
    "isStable(A)"
   ]
  },
  {
   "cell_type": "code",
   "execution_count": null,
   "id": "7f2cc506",
   "metadata": {},
   "outputs": [],
   "source": []
  },
  {
   "cell_type": "code",
   "execution_count": 5,
   "id": "820c08e3",
   "metadata": {},
   "outputs": [
    {
     "data": {
      "text/plain": [
       "'completly observable'"
      ]
     },
     "execution_count": 5,
     "metadata": {},
     "output_type": "execute_result"
    }
   ],
   "source": [
    "A=sym.Matrix([[0, 1],[-1,-2]])\n",
    "C=sym.Matrix([1,0])\n",
    "\n",
    "def isObservable(A,C):\n",
    "    n=A.shape[0]        \n",
    "    O=C.transpose()\n",
    "    for i in range(n-1):\n",
    "        O=O.row_insert(i+1,C.transpose()*A**(i+1))\n",
    "    \n",
    "    if O.rank()==n:\n",
    "        return \"completly observable\"\n",
    "    elif O.rank()>n/2:\n",
    "        return \"not completly observable\"\n",
    "    else :\n",
    "        return \"not observable\"\n",
    "\n",
    "isObservable(A,C)\n"
   ]
  },
  {
   "cell_type": "code",
   "execution_count": 6,
   "id": "040c7588",
   "metadata": {},
   "outputs": [],
   "source": [
    "def isControllable():\n",
    "    pass\n",
    "\n"
   ]
  },
  {
   "cell_type": "code",
   "execution_count": 7,
   "id": "7a88922d",
   "metadata": {},
   "outputs": [],
   "source": [
    "def tf2ss(num,den):\n",
    "    pass"
   ]
  },
  {
   "cell_type": "code",
   "execution_count": 8,
   "id": "becb3f2f",
   "metadata": {},
   "outputs": [
    {
     "data": {
      "text/plain": [
       "'3/(s + 3) - 6/(s + 2) + 3/(s + 1)'"
      ]
     },
     "execution_count": 8,
     "metadata": {},
     "output_type": "execute_result"
    }
   ],
   "source": [
    "f = 6/(s**3+6*s**2+11*s+6)\n",
    "p=sym.apart(f)\n",
    "str(p)"
   ]
  },
  {
   "cell_type": "code",
   "execution_count": 21,
   "id": "1a17212d",
   "metadata": {},
   "outputs": [],
   "source": [
    "A=sym.Matrix([[0, 1,0],[0,0,1],[-10,-17,-8]])\n",
    "B=sym.Matrix([0,0,1])\n",
    "x0=sym.Matrix([1,1,0])\n",
    "u=1/s\n",
    "\n",
    "def solve(A,B,x0,u):\n",
    "    x=(sym.eye(A.shape[0])*s-A).inv()*x0 -(sym.eye(A.shape[0])*s-A).inv()*B\n",
    "    x=sym.inverse_laplace_transform(x, s, t)\n",
    "    x=sym.simplify(x)\n",
    "\n",
    "    return x\n"
   ]
  },
  {
   "cell_type": "code",
   "execution_count": 22,
   "id": "6f21cf3f",
   "metadata": {},
   "outputs": [
    {
     "data": {
      "text/latex": [
       "$\\displaystyle \\left[\\begin{matrix}\\frac{\\left(12 e^{4 t} - 10 e^{3 t} + 1\\right) e^{- 5 t} \\theta\\left(t\\right)}{3}\\\\\\frac{\\left(- 12 e^{4 t} + 20 e^{3 t} - 5\\right) e^{- 5 t} \\theta\\left(t\\right)}{3}\\\\\\frac{\\left(12 e^{4 t} - 40 e^{3 t} + 25\\right) e^{- 5 t} \\theta\\left(t\\right)}{3}\\end{matrix}\\right]$"
      ],
      "text/plain": [
       "Matrix([\n",
       "[ (12*exp(4*t) - 10*exp(3*t) + 1)*exp(-5*t)*Heaviside(t)/3],\n",
       "[(-12*exp(4*t) + 20*exp(3*t) - 5)*exp(-5*t)*Heaviside(t)/3],\n",
       "[(12*exp(4*t) - 40*exp(3*t) + 25)*exp(-5*t)*Heaviside(t)/3]])"
      ]
     },
     "execution_count": 22,
     "metadata": {},
     "output_type": "execute_result"
    }
   ],
   "source": [
    "solve(A,B,x0,u)"
   ]
  },
  {
   "cell_type": "code",
   "execution_count": null,
   "id": "6c47c2d9",
   "metadata": {},
   "outputs": [],
   "source": []
  },
  {
   "cell_type": "code",
   "execution_count": null,
   "id": "54b83544",
   "metadata": {},
   "outputs": [],
   "source": []
  },
  {
   "cell_type": "code",
   "execution_count": null,
   "id": "b2086919",
   "metadata": {},
   "outputs": [],
   "source": []
  }
 ],
 "metadata": {
  "kernelspec": {
   "display_name": "Python 3",
   "language": "python",
   "name": "python3"
  },
  "language_info": {
   "codemirror_mode": {
    "name": "ipython",
    "version": 3
   },
   "file_extension": ".py",
   "mimetype": "text/x-python",
   "name": "python",
   "nbconvert_exporter": "python",
   "pygments_lexer": "ipython3",
   "version": "3.8.8"
  }
 },
 "nbformat": 4,
 "nbformat_minor": 5
}
