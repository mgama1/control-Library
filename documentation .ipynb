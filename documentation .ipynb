{
 "cells": [
  {
   "cell_type": "code",
   "execution_count": 1,
   "id": "cdc866fc",
   "metadata": {},
   "outputs": [],
   "source": [
    "from pyctrl import *\n",
    "pyc=pyctrl()"
   ]
  },
  {
   "cell_type": "markdown",
   "id": "91316b17",
   "metadata": {},
   "source": [
    "# convertion from state space to transfer function "
   ]
  },
  {
   "cell_type": "code",
   "execution_count": 2,
   "id": "dfc5845f",
   "metadata": {},
   "outputs": [
    {
     "data": {
      "text/latex": [
       "$\\displaystyle \\left[\\begin{matrix}\\frac{s + 8}{s^{2} - 5 s - 44}\\end{matrix}\\right]$"
      ],
      "text/plain": [
       "Matrix([[(s + 8)/(s**2 - 5*s - 44)]])"
      ]
     },
     "execution_count": 2,
     "metadata": {},
     "output_type": "execute_result"
    }
   ],
   "source": [
    "A=np.array([[3, 10],[5,2]])\n",
    "B=np.array([1,1])\n",
    "C=np.array([1,0])\n",
    "D=np.array([0])\n",
    "\n",
    "pyc.ss2tf(A,B,C,D)"
   ]
  },
  {
   "cell_type": "markdown",
   "id": "20f63558",
   "metadata": {},
   "source": [
    "# conversion from transfer function to state space"
   ]
  },
  {
   "cell_type": "markdown",
   "id": "3116ea9b",
   "metadata": {},
   "source": [
    "the default is the controllble form"
   ]
  },
  {
   "cell_type": "code",
   "execution_count": 3,
   "id": "4cb5f093",
   "metadata": {},
   "outputs": [
    {
     "data": {
      "text/plain": [
       "(array([[  0.,   1.],\n",
       "        [-10.,  -2.]]),\n",
       " array([0., 1.]),\n",
       " array([0., 4.]),\n",
       " array([0.]))"
      ]
     },
     "execution_count": 3,
     "metadata": {},
     "output_type": "execute_result"
    }
   ],
   "source": [
    "n=np.array([4])\n",
    "d=np.array([1,2,10])\n",
    "\n",
    "pyc.tf2ss(n,d)"
   ]
  },
  {
   "cell_type": "code",
   "execution_count": 4,
   "id": "47c6cf88",
   "metadata": {},
   "outputs": [
    {
     "data": {
      "text/plain": [
       "(array([[  0., -10.],\n",
       "        [  1.,  -2.]]),\n",
       " array([0., 4.]),\n",
       " array([0., 1.]),\n",
       " array([0.]))"
      ]
     },
     "execution_count": 4,
     "metadata": {},
     "output_type": "execute_result"
    }
   ],
   "source": [
    "pyc.tf2ss(n,d,\"observable\")"
   ]
  },
  {
   "cell_type": "markdown",
   "id": "761bce87",
   "metadata": {},
   "source": [
    "## solution of a system"
   ]
  },
  {
   "cell_type": "code",
   "execution_count": 5,
   "id": "ea604546",
   "metadata": {},
   "outputs": [
    {
     "data": {
      "text/latex": [
       "$\\displaystyle \\left[\\begin{matrix}\\frac{s^{2} - s + 8}{s \\left(s^{2} - 5 s - 44\\right)}\\\\\\frac{2 \\left(3 s + 1\\right)}{s \\left(s^{2} - 5 s - 44\\right)}\\end{matrix}\\right]$"
      ],
      "text/plain": [
       "Matrix([\n",
       "[(s**2 - s + 8)/(s*(s**2 - 5*s - 44))],\n",
       "[   2*(3*s + 1)/(s*(s**2 - 5*s - 44))]])"
      ]
     },
     "execution_count": 5,
     "metadata": {},
     "output_type": "execute_result"
    }
   ],
   "source": [
    "A=np.array([[3, 10],[5,2]])\n",
    "B=np.array([1,1])\n",
    "x0=np.array([1,0])\n",
    "u=1\n",
    "\n",
    "pyc.solve(A,B,x0,u)"
   ]
  },
  {
   "cell_type": "markdown",
   "id": "46461d84",
   "metadata": {},
   "source": [
    "#  checking for stability, observability, and controllability"
   ]
  },
  {
   "cell_type": "code",
   "execution_count": 12,
   "id": "d98e9b8a",
   "metadata": {},
   "outputs": [],
   "source": [
    "A=np.array([[3, 10],[5,2]])\n",
    "B=np.array([1,1])\n",
    "C=np.array([1,0])"
   ]
  },
  {
   "cell_type": "markdown",
   "id": "656c7be1",
   "metadata": {},
   "source": [
    "stability"
   ]
  },
  {
   "cell_type": "code",
   "execution_count": 13,
   "id": "f6d8edec",
   "metadata": {},
   "outputs": [
    {
     "data": {
      "text/plain": [
       "True"
      ]
     },
     "execution_count": 13,
     "metadata": {},
     "output_type": "execute_result"
    }
   ],
   "source": [
    "pyc.isStable(A)"
   ]
  },
  {
   "cell_type": "markdown",
   "id": "25150c40",
   "metadata": {},
   "source": [
    "observability"
   ]
  },
  {
   "cell_type": "code",
   "execution_count": 14,
   "id": "d9abe3e2",
   "metadata": {},
   "outputs": [
    {
     "data": {
      "text/plain": [
       "True"
      ]
     },
     "execution_count": 14,
     "metadata": {},
     "output_type": "execute_result"
    }
   ],
   "source": [
    "pyc.isObservable(A,C)"
   ]
  },
  {
   "cell_type": "markdown",
   "id": "41ff3e1b",
   "metadata": {},
   "source": [
    "controllability"
   ]
  },
  {
   "cell_type": "code",
   "execution_count": 15,
   "id": "0a15daff",
   "metadata": {},
   "outputs": [
    {
     "data": {
      "text/plain": [
       "True"
      ]
     },
     "execution_count": 15,
     "metadata": {},
     "output_type": "execute_result"
    }
   ],
   "source": [
    "pyc.isControllable(A,B)"
   ]
  },
  {
   "cell_type": "markdown",
   "id": "09cc3d29",
   "metadata": {},
   "source": [
    "# step response of the system"
   ]
  },
  {
   "cell_type": "code",
   "execution_count": 11,
   "id": "efc2cabf",
   "metadata": {},
   "outputs": [
    {
     "data": {
      "image/png": "[encoded data removed]",
      "text/plain": [
       "<Figure size 432x288 with 1 Axes>"
      ]
     },
     "metadata": {
      "needs_background": "light"
     },
     "output_type": "display_data"
    }
   ],
   "source": [
    "pyc.step(n,d)"
   ]
  },
  {
   "cell_type": "markdown",
   "id": "94f9fc23",
   "metadata": {},
   "source": [
    "# Pole placplacement "
   ]
  },
  {
   "cell_type": "code",
   "execution_count": 8,
   "id": "a8bd621d",
   "metadata": {},
   "outputs": [
    {
     "data": {
      "text/latex": [
       "$\\displaystyle \\left[\\begin{matrix}98.0 & 54.0 & 7.0\\end{matrix}\\right]$"
      ],
      "text/plain": [
       "Matrix([[98.0, 54.0, 7.0]])"
      ]
     },
     "execution_count": 8,
     "metadata": {},
     "output_type": "execute_result"
    }
   ],
   "source": [
    "A=np.array([[0, 1,0],[0,0,1],[-2,-3,-5]])\n",
    "B=np.array([0,0,1])\n",
    "\n",
    "pyc.placePoles(A,B,-4+3j,-4-3j,-4)"
   ]
  },
  {
   "cell_type": "code",
   "execution_count": null,
   "id": "02aa6d2c",
   "metadata": {},
   "outputs": [],
   "source": []
  },
  {
   "cell_type": "code",
   "execution_count": null,
   "id": "2a0eac4a",
   "metadata": {},
   "outputs": [],
   "source": []
  }
 ],
 "metadata": {
  "kernelspec": {
   "display_name": "Python 3",
   "language": "python",
   "name": "python3"
  },
  "language_info": {
   "codemirror_mode": {
    "name": "ipython",
    "version": 3
   },
   "file_extension": ".py",
   "mimetype": "text/x-python",
   "name": "python",
   "nbconvert_exporter": "python",
   "pygments_lexer": "ipython3",
   "version": "3.8.8"
  }
 },
 "nbformat": 4,
 "nbformat_minor": 5
}
